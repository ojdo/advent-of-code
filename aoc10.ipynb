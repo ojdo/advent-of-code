{
 "metadata": {
  "name": "",
  "signature": "sha256:d47ff0d214f6ca5543e4ae32a7a9b9998f6882bdc32f2fb697bdefc33791b62c"
 },
 "nbformat": 3,
 "nbformat_minor": 0,
 "worksheets": [
  {
   "cells": [
    {
     "cell_type": "markdown",
     "metadata": {},
     "source": [
      "## Advent of Code, Day 10\n",
      "\n",
      "IPython Notebook solution by ojdo\n",
      "License: [CC0](http://creativecommons.org/publicdomain/zero/1.0/)"
     ]
    },
    {
     "cell_type": "code",
     "collapsed": false,
     "input": [
      "sequence = \"1\""
     ],
     "language": "python",
     "metadata": {},
     "outputs": [],
     "prompt_number": 24
    },
    {
     "cell_type": "code",
     "collapsed": false,
     "input": [
      "breaks = [0] + [k+1 for k in range(len(sequence)-1) if sequence[k] != sequence[k+1]] + [len(sequence)]\n",
      "breaks"
     ],
     "language": "python",
     "metadata": {},
     "outputs": [
      {
       "metadata": {},
       "output_type": "pyout",
       "prompt_number": 25,
       "text": [
        "[0, 1]"
       ]
      }
     ],
     "prompt_number": 25
    },
    {
     "cell_type": "code",
     "collapsed": false,
     "input": [
      "streaks = []\n",
      "for k in range(len(breaks)-1):\n",
      "    a, b = breaks[k], breaks[k+1]\n",
      "    streaks.append(sequence[a:b])\n",
      "streaks"
     ],
     "language": "python",
     "metadata": {},
     "outputs": [
      {
       "metadata": {},
       "output_type": "pyout",
       "prompt_number": 26,
       "text": [
        "['1']"
       ]
      }
     ],
     "prompt_number": 26
    },
    {
     "cell_type": "code",
     "collapsed": false,
     "input": [
      "new_sequence = \"\"\n",
      "for s in streaks:\n",
      "    new_sequence += str(len(s)) + s[0]\n",
      "new_sequence"
     ],
     "language": "python",
     "metadata": {},
     "outputs": [
      {
       "metadata": {},
       "output_type": "pyout",
       "prompt_number": 27,
       "text": [
        "'11'"
       ]
      }
     ],
     "prompt_number": 27
    },
    {
     "cell_type": "code",
     "collapsed": false,
     "input": [
      "def look_and_tell(sequence):\n",
      "    \n",
      "    breaks = [0] + \\\n",
      "             [k+1 for k in range(len(sequence)-1) if sequence[k] != sequence[k+1]] + \\\n",
      "             [len(sequence)]\n",
      "    \n",
      "    streaks = []\n",
      "    for k in range(len(breaks)-1):\n",
      "        a, b = breaks[k], breaks[k+1]\n",
      "        streaks.append(sequence[a:b])\n",
      "\n",
      "    new_sequence = \"\"\n",
      "    for s in streaks:\n",
      "        new_sequence += str(len(s)) + s[0]\n",
      "\n",
      "    return new_sequence"
     ],
     "language": "python",
     "metadata": {},
     "outputs": [],
     "prompt_number": 28
    },
    {
     "cell_type": "markdown",
     "metadata": {},
     "source": [
      "For example:\n",
      "\n",
      "    1 becomes 11 (1 copy of digit 1).\n",
      "    11 becomes 21 (2 copies of digit 1).\n",
      "    21 becomes 1211 (one 2 followed by one 1).\n",
      "    1211 becomes 111221 (one 1, one 2, and two 1s).\n",
      "    111221 becomes 312211 (three 1s, two 2s, and one 1)."
     ]
    },
    {
     "cell_type": "code",
     "collapsed": false,
     "input": [
      "# tests\n",
      "for test_input in [1, 11, 21, 1211, 111211]:\n",
      "    test_input = str(test_input)\n",
      "    print(\"{} becomes {}\".format(test_input, look_and_tell(test_input)))"
     ],
     "language": "python",
     "metadata": {},
     "outputs": [
      {
       "output_type": "stream",
       "stream": "stdout",
       "text": [
        "1 becomes 11\n",
        "11 becomes 21\n",
        "21 becomes 1211\n",
        "1211 becomes 111221\n",
        "111211 becomes 311221\n"
       ]
      }
     ],
     "prompt_number": 29
    },
    {
     "cell_type": "code",
     "collapsed": false,
     "input": [
      "# PART I\n",
      "sequence = \"1113222113\"\n",
      "for k in range(40):\n",
      "    sequence = look_and_tell(sequence)\n",
      "len(sequence)"
     ],
     "language": "python",
     "metadata": {},
     "outputs": [
      {
       "metadata": {},
       "output_type": "pyout",
       "prompt_number": 31,
       "text": [
        "252594"
       ]
      }
     ],
     "prompt_number": 31
    },
    {
     "cell_type": "code",
     "collapsed": false,
     "input": [
      "# PART II\n",
      "sequence = \"1113222113\"\n",
      "for k in range(50):\n",
      "    sequence = look_and_tell(sequence)\n",
      "len(sequence)"
     ],
     "language": "python",
     "metadata": {},
     "outputs": [
      {
       "metadata": {},
       "output_type": "pyout",
       "prompt_number": 32,
       "text": [
        "3579328"
       ]
      }
     ],
     "prompt_number": 32
    }
   ],
   "metadata": {}
  }
 ]
}